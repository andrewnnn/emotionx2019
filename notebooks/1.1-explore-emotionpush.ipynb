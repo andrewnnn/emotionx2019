{
 "cells": [
  {
   "cell_type": "markdown",
   "metadata": {},
   "source": [
    "# EmotionX data explore\n",
    "Andrew Nguyen, 09/06/2019\n",
    "\n",
    "Summary: <br>\n",
    "data exploration and initial steps"
   ]
  },
  {
   "cell_type": "code",
   "execution_count": 1,
   "metadata": {},
   "outputs": [],
   "source": [
    "# Adding project root and custom functions\n",
    "from os import listdir, getcwd\n",
    "from os.path import isfile, join\n",
    "import sys\n",
    "from pathlib import Path\n",
    "\n",
    "def find_root_dir():\n",
    "    # find config.py\n",
    "    path = Path(getcwd()).parent\n",
    "    onlyfiles = [f for f in listdir(path) if isfile(join(path, f))]\n",
    "\n",
    "    while \"config.py\" not in onlyfiles:\n",
    "        path = path.parent\n",
    "        onlyfiles = [f for f in listdir(path) if isfile(join(path, f))]\n",
    "        \n",
    "    return path\n",
    "\n",
    "ROOT_DIR = str(find_root_dir())\n",
    "sys.path.append(ROOT_DIR)\n",
    "\n",
    "from config import get_project_root\n",
    "# custom functs\n",
    "from src.features import build_features\n",
    "from src.visualization.visualize import plot_confusion_matrix"
   ]
  },
  {
   "cell_type": "code",
   "execution_count": 2,
   "metadata": {
    "scrolled": true
   },
   "outputs": [],
   "source": [
    "import pandas as pd\n",
    "import json\n",
    "import matplotlib.pyplot as plt\n",
    "import numpy as np\n",
    "\n",
    "import random\n",
    "from collections import Counter\n",
    "\n",
    "from nltk import ngrams\n",
    "from nltk.tokenize import TweetTokenizer"
   ]
  },
  {
   "cell_type": "code",
   "execution_count": 3,
   "metadata": {},
   "outputs": [],
   "source": [
    "D1_PATH = \"../data/raw/EmotionPush/emotionpush.augmented.json\"\n",
    "D2_PATH = \"../data/raw/Friends/friends.augmented.json\"\n",
    "\n",
    "# df = build_features.to_df(D1_PATH)"
   ]
  },
  {
   "cell_type": "code",
   "execution_count": 4,
   "metadata": {},
   "outputs": [],
   "source": [
    "# df"
   ]
  },
  {
   "cell_type": "code",
   "execution_count": 5,
   "metadata": {},
   "outputs": [],
   "source": [
    "file = D1_PATH\n",
    "if file:\n",
    "    with open(file, 'r') as f:\n",
    "        datastore = json.load(f)    \n",
    "\n",
    "utters = []\n",
    "for idx, convo in enumerate(datastore):\n",
    "    for i in range(len(convo)):\n",
    "        # for each convo, extract each 3 turn utterance | i - 1 | utterance | i + 1 |\n",
    "        # Each utterance has the context before and after\n",
    "        utter_context = []\n",
    "\n",
    "        if (i - 1) >= 0:\n",
    "            utter_context.append(convo[i-1])\n",
    "        else:\n",
    "            utter_context.append(None)\n",
    "\n",
    "        utter_context.append(convo[i])\n",
    "\n",
    "        if (i + 1) < len(convo):\n",
    "            utter_context.append(convo[i+1])\n",
    "        else:\n",
    "            utter_context.append(None)\n",
    "\n",
    "        utter_context.append(idx) # save convo id\n",
    "\n",
    "        utters.append(utter_context)\n",
    "\n",
    "# Convert to pandas initialise format\n",
    "utters2 = []\n",
    "for u in utters:\n",
    "    d = {}\n",
    "    if u[0] != None:\n",
    "        d[\"emotion1\"] = u[0][\"emotion\"]\n",
    "        d[\"utterance1\"] = u[0][\"utterance\"]\n",
    "\n",
    "    d[\"emotion2\"] = u[1][\"emotion\"]\n",
    "    d[\"utterance2\"] = u[1][\"utterance\"]\n",
    "\n",
    "    if u[2] != None:    \n",
    "        d[\"emotion3\"] = u[2][\"emotion\"]\n",
    "        d[\"utterance3\"] = u[2][\"utterance\"]\n",
    "\n",
    "    d[\"convoId\"] = u[3]\n",
    "    d[\"annotation\"] = u[1][\"annotation\"]\n",
    "\n",
    "    utters2.append(d)  \n",
    "\n",
    "df = pd.DataFrame(utters2)"
   ]
  },
  {
   "cell_type": "markdown",
   "metadata": {},
   "source": [
    "## Sample of the data & format"
   ]
  },
  {
   "cell_type": "code",
   "execution_count": 6,
   "metadata": {},
   "outputs": [
    {
     "data": {
      "text/plain": [
       "[{'speaker': '100003245927356',\n",
       "  'utterance': 'What about a pay plan',\n",
       "  'emotion': 'neutral',\n",
       "  'annotation': '5000000',\n",
       "  'utterance_de': 'What about a salary plan?',\n",
       "  'utterance_fr': 'What about a compensation plan',\n",
       "  'utterance_it': 'What about a payment plan'},\n",
       " {'speaker': '100003245927356',\n",
       "  'utterance': 'What are you gonna do about references?',\n",
       "  'emotion': 'neutral',\n",
       "  'annotation': '4000010',\n",
       "  'utterance_de': 'What are you doing with references?',\n",
       "  'utterance_fr': 'What will you do about references?',\n",
       "  'utterance_it': 'What will you do about the references?'},\n",
       " {'speaker': '100003639669704',\n",
       "  'utterance': 'Idk',\n",
       "  'emotion': 'neutral',\n",
       "  'annotation': '4001000',\n",
       "  'utterance_de': 'idk',\n",
       "  'utterance_fr': 'idk',\n",
       "  'utterance_it': 'idk'},\n",
       " {'speaker': '100003639669704',\n",
       "  'utterance': 'Did you take stafford loans?',\n",
       "  'emotion': 'neutral',\n",
       "  'annotation': '4000010',\n",
       "  'utterance_de': 'Have you taken Stafford loans?',\n",
       "  'utterance_fr': 'Have you taken out loans at Stafford?',\n",
       "  'utterance_it': 'Have you taken loans for the stafford?'},\n",
       " {'speaker': '100003245927356',\n",
       "  'utterance': 'I think so',\n",
       "  'emotion': 'neutral',\n",
       "  'annotation': '5000000',\n",
       "  'utterance_de': 'I think so',\n",
       "  'utterance_fr': 'I think so',\n",
       "  'utterance_it': 'I think so'},\n",
       " {'speaker': '100003639669704',\n",
       "  'utterance': \"who'd you put?\",\n",
       "  'emotion': 'neutral',\n",
       "  'annotation': '5000000',\n",
       "  'utterance_de': 'who did you lay down?',\n",
       "  'utterance_fr': 'who did you put?',\n",
       "  'utterance_it': 'who did you put?'},\n",
       " {'speaker': '100003639669704',\n",
       "  'utterance': \"according to college confidential they're so the feds can get in contact with you if you move without changing your address on the site\",\n",
       "  'emotion': 'neutral',\n",
       "  'annotation': '5000000',\n",
       "  'utterance_de': 'Confidential, they are so that the FBI can contact you if you move without changing your address on the page',\n",
       "  'utterance_fr': \"depending on the college's confidential code, the federal government can contact you if you move without changing your address\",\n",
       "  'utterance_it': 'according to the confidential college are so the feds can get in touch with you if you move without changing your address on the site'},\n",
       " {'speaker': '100003245927356',\n",
       "  'utterance': \"Actually I'm not sure if I did\",\n",
       "  'emotion': 'neutral',\n",
       "  'annotation': '4001000',\n",
       "  'utterance_de': \"Actually, I'm not sure if I did it\",\n",
       "  'utterance_fr': 'Actually, I do not know if I did it',\n",
       "  'utterance_it': \"Actually I'm not sure I did\"}]"
      ]
     },
     "execution_count": 6,
     "metadata": {},
     "output_type": "execute_result"
    }
   ],
   "source": [
    "datastore[237]\n"
   ]
  },
  {
   "cell_type": "code",
   "execution_count": 7,
   "metadata": {},
   "outputs": [
    {
     "name": "stdout",
     "output_type": "stream",
     "text": [
      "Turn 1: What about a pay plan\n",
      "Turn 2: What are you gonna do about references?\n",
      "Turn 3: Idk\n",
      "Turn 4: Did you take stafford loans?\n",
      "Turn 5: I think so\n",
      "Turn 6: who'd you put?\n",
      "Turn 7: according to college confidential they're so the feds can get in contact with you if you move without changing your address on the site\n",
      "Turn 8: Actually I'm not sure if I did\n"
     ]
    }
   ],
   "source": [
    "# index 237 for emotionpush example, 45 for friends\n",
    "datastore[237]\n",
    "\n",
    "for idx, t in enumerate(datastore[237]):\n",
    "    print(\"Turn {}: {}\".format(idx+1, t[\"utterance\"]))"
   ]
  },
  {
   "cell_type": "markdown",
   "metadata": {},
   "source": [
    "## Exploratory Stats"
   ]
  },
  {
   "cell_type": "code",
   "execution_count": 8,
   "metadata": {},
   "outputs": [],
   "source": [
    "# 1000 facebook chats of varying length 5 - 24 turns\n",
    "# 29,245 individual replies/turns\n",
    "# [neutral, joy, sadness, fear, anger,  surprise, disgust] Emotions \n",
    "# \"non-neutral\" if no majority given (5 annotators)\n",
    "# Speakers can reply in multiple consecutive turns\n",
    "\n",
    "# FRIENDS:\n",
    "# 1000 dialogue conversations from the \"Friends\" tv show \n",
    "# Dataset specific:\n",
    "# Friends: \"Oh Ross, you're so great. [she playfully rubs his head and gets up]\"\n",
    "# Scene actions wrapped in []"
   ]
  },
  {
   "cell_type": "markdown",
   "metadata": {},
   "source": [
    "## Conversation length"
   ]
  },
  {
   "cell_type": "code",
   "execution_count": 9,
   "metadata": {
    "scrolled": true
   },
   "outputs": [],
   "source": [
    "convoLen = []\n",
    "for convo in datastore:\n",
    "    convoLen.append(len(convo))\n",
    "\n",
    "s = pd.Series(convoLen)"
   ]
  },
  {
   "cell_type": "code",
   "execution_count": 10,
   "metadata": {},
   "outputs": [
    {
     "data": {
      "text/plain": [
       "'Min convo len is 5, Max convo len is 24'"
      ]
     },
     "execution_count": 10,
     "metadata": {},
     "output_type": "execute_result"
    }
   ],
   "source": [
    "\"Min convo len is {}, Max convo len is {}\".format(s.min(), s.max())"
   ]
  },
  {
   "cell_type": "code",
   "execution_count": 11,
   "metadata": {},
   "outputs": [
    {
     "data": {
      "text/plain": [
       "count    1000.000000\n",
       "mean       14.742000\n",
       "std         5.274776\n",
       "min         5.000000\n",
       "25%         9.750000\n",
       "50%        14.500000\n",
       "75%        19.250000\n",
       "max        24.000000\n",
       "dtype: float64"
      ]
     },
     "execution_count": 11,
     "metadata": {},
     "output_type": "execute_result"
    }
   ],
   "source": [
    "s.describe()"
   ]
  },
  {
   "cell_type": "code",
   "execution_count": 12,
   "metadata": {},
   "outputs": [
    {
     "data": {
      "text/plain": [
       "<matplotlib.axes._subplots.AxesSubplot at 0x1176a3c18>"
      ]
     },
     "execution_count": 12,
     "metadata": {},
     "output_type": "execute_result"
    },
    {
     "data": {
      "image/png": "[encoded data removed]",
      "text/plain": [
       "<Figure size 432x288 with 1 Axes>"
      ]
     },
     "metadata": {
      "needs_background": "light"
     },
     "output_type": "display_data"
    }
   ],
   "source": [
    "s.groupby(s).count().plot.bar()"
   ]
  },
  {
   "cell_type": "markdown",
   "metadata": {},
   "source": [
    "### - Longest Convo detail"
   ]
  },
  {
   "cell_type": "code",
   "execution_count": 13,
   "metadata": {},
   "outputs": [],
   "source": [
    "for convo in datastore:\n",
    "    if len(convo) == 24:\n",
    "        x = convo"
   ]
  },
  {
   "cell_type": "code",
   "execution_count": 14,
   "metadata": {},
   "outputs": [
    {
     "name": "stdout",
     "output_type": "stream",
     "text": [
      "T1, Speaker 645612368: Haha are you serious -> (surprise)\n",
      "T2, Speaker 1510802066: The girl told her to collect it from neville apt -> (neutral)\n",
      "T3, Speaker 645612368: Smart decision -> (joy)\n",
      "T4, Speaker 1510802066: But don't think she will -> (non-neutral)\n",
      "T5, Speaker 1510802066: What. I want to punch! -> (anger)\n",
      "T6, Speaker 1510802066: Btw did the VO ever ask for ur tenth n twelfth border marksheet? -> (neutral)\n",
      "T7, Speaker 645612368: So you spend 140$? On that? Pointless.. So many better options. Punch her. For free -> (disgust)\n",
      "T8, Speaker 645612368: Dude the vo didn't ask me anything, no dividend -> (neutral)\n",
      "T9, Speaker 645612368: Documents -> (neutral)\n",
      "T10, Speaker 645612368: But keep it just in case. If you have it -> (neutral)\n",
      "T11, Speaker 1510802066: 70$ if we share -> (neutral)\n",
      "T12, Speaker 645612368: No harm -> (neutral)\n",
      "T13, Speaker 645612368: Major waste -> (disgust)\n",
      "T14, Speaker 645612368: Appointment tomorrow? -> (neutral)\n",
      "T15, Speaker 645612368: Take a copy -> (neutral)\n",
      "T16, Speaker 1510802066: date_1 - date_2 month_1 -> (neutral)\n",
      "T17, Speaker 645612368: Oh right..  -> (surprise)\n",
      "T18, Speaker 1510802066: But parents r angry saying What's wrong g with u Where's board marks all u care about is shopping blah blah movies blah blah -> (non-neutral)\n",
      "T19, Speaker 645612368: You have time. Search away -> (neutral)\n",
      "T20, Speaker 645612368: Hmmm -> (neutral)\n",
      "T21, Speaker 645612368: Worst case you'll have a copy I'm guessing.. Or you can get a duplicate from college and school, it's in location_31 anyway -> (neutral)\n",
      "T22, Speaker 1510802066: Yeah I've soft copy -> (neutral)\n",
      "T23, Speaker 1510802066: person_182 husband is moving to pwc in location_32 and she's quit n is moving there in April. Going to meet the nitk girls gang now -> (neutral)\n",
      "T24, Speaker 1510802066: Now whatsapp update has introduced bold and italics and strike through in texts. -> (non-neutral)\n"
     ]
    }
   ],
   "source": [
    "for idx, t in enumerate(x):\n",
    "    print(\"T{}, Speaker {}: {} -> ({})\".format(idx+1, t[\"speaker\"], t[\"utterance\"], t[\"emotion\"]))"
   ]
  },
  {
   "cell_type": "code",
   "execution_count": 15,
   "metadata": {},
   "outputs": [],
   "source": [
    "# Summary:\n",
    "# - One convo\n",
    "# - Multiple consecutive replies from a speaker"
   ]
  },
  {
   "cell_type": "markdown",
   "metadata": {},
   "source": [
    "## Emotion proportions"
   ]
  },
  {
   "cell_type": "code",
   "execution_count": 16,
   "metadata": {},
   "outputs": [
    {
     "data": {
      "text/plain": [
       "<matplotlib.axes._subplots.AxesSubplot at 0x11a0956d8>"
      ]
     },
     "execution_count": 16,
     "metadata": {},
     "output_type": "execute_result"
    },
    {
     "data": {
      "image/png": "[encoded data removed]",
      "text/plain": [
       "<Figure size 432x288 with 1 Axes>"
      ]
     },
     "metadata": {
      "needs_background": "light"
     },
     "output_type": "display_data"
    }
   ],
   "source": [
    "df.groupby(\"emotion2\")[\"utterance2\"].count().plot.bar()"
   ]
  },
  {
   "cell_type": "markdown",
   "metadata": {},
   "source": [
    "## Percentage"
   ]
  },
  {
   "cell_type": "code",
   "execution_count": 17,
   "metadata": {},
   "outputs": [
    {
     "data": {
      "text/plain": [
       "emotion2\n",
       "fear           0.002849\n",
       "disgust        0.007190\n",
       "anger          0.009497\n",
       "sadness        0.034866\n",
       "surprise       0.038462\n",
       "non-neutral    0.096188\n",
       "joy            0.142450\n",
       "neutral        0.668498\n",
       "Name: utterance2, dtype: float64"
      ]
     },
     "execution_count": 17,
     "metadata": {},
     "output_type": "execute_result"
    }
   ],
   "source": [
    "temp = df.groupby(\"emotion2\")[\"utterance2\"].count()\n",
    "temp.apply(lambda x: x/temp.sum()).sort_values()"
   ]
  },
  {
   "cell_type": "markdown",
   "metadata": {},
   "source": [
    "## Check missing values"
   ]
  },
  {
   "cell_type": "code",
   "execution_count": 18,
   "metadata": {},
   "outputs": [
    {
     "data": {
      "text/html": [
       "<div>\n",
       "<style scoped>\n",
       "    .dataframe tbody tr th:only-of-type {\n",
       "        vertical-align: middle;\n",
       "    }\n",
       "\n",
       "    .dataframe tbody tr th {\n",
       "        vertical-align: top;\n",
       "    }\n",
       "\n",
       "    .dataframe thead th {\n",
       "        text-align: right;\n",
       "    }\n",
       "</style>\n",
       "<table border=\"1\" class=\"dataframe\">\n",
       "  <thead>\n",
       "    <tr style=\"text-align: right;\">\n",
       "      <th></th>\n",
       "      <th>emotion2</th>\n",
       "    </tr>\n",
       "  </thead>\n",
       "  <tbody>\n",
       "  </tbody>\n",
       "</table>\n",
       "</div>"
      ],
      "text/plain": [
       "Empty DataFrame\n",
       "Columns: [emotion2]\n",
       "Index: []"
      ]
     },
     "execution_count": 18,
     "metadata": {},
     "output_type": "execute_result"
    }
   ],
   "source": [
    "df[[\"emotion2\"]].isna()[df.emotion2 == True]"
   ]
  },
  {
   "cell_type": "markdown",
   "metadata": {},
   "source": [
    "## Words per turn"
   ]
  },
  {
   "cell_type": "code",
   "execution_count": 19,
   "metadata": {},
   "outputs": [],
   "source": [
    "tokenizer = TweetTokenizer()\n",
    "df[\"wordsPerTurn\"] = df.utterance2.apply(lambda x: len(x.split(\" \")))"
   ]
  },
  {
   "cell_type": "code",
   "execution_count": 20,
   "metadata": {},
   "outputs": [
    {
     "data": {
      "text/plain": [
       "'Min words per turn 1, Max words per turn 183'"
      ]
     },
     "execution_count": 20,
     "metadata": {},
     "output_type": "execute_result"
    }
   ],
   "source": [
    "s = df.wordsPerTurn\n",
    "\n",
    "\"Min words per turn {}, Max words per turn {}\".format(s.min(), s.max())"
   ]
  },
  {
   "cell_type": "code",
   "execution_count": 21,
   "metadata": {},
   "outputs": [
    {
     "data": {
      "text/html": [
       "<div>\n",
       "<style scoped>\n",
       "    .dataframe tbody tr th:only-of-type {\n",
       "        vertical-align: middle;\n",
       "    }\n",
       "\n",
       "    .dataframe tbody tr th {\n",
       "        vertical-align: top;\n",
       "    }\n",
       "\n",
       "    .dataframe thead th {\n",
       "        text-align: right;\n",
       "    }\n",
       "</style>\n",
       "<table border=\"1\" class=\"dataframe\">\n",
       "  <thead>\n",
       "    <tr style=\"text-align: right;\">\n",
       "      <th></th>\n",
       "      <th>annotation</th>\n",
       "      <th>convoId</th>\n",
       "      <th>emotion1</th>\n",
       "      <th>emotion2</th>\n",
       "      <th>emotion3</th>\n",
       "      <th>utterance1</th>\n",
       "      <th>utterance2</th>\n",
       "      <th>utterance3</th>\n",
       "      <th>wordsPerTurn</th>\n",
       "    </tr>\n",
       "  </thead>\n",
       "  <tbody>\n",
       "    <tr>\n",
       "      <th>11903</th>\n",
       "      <td>2010101</td>\n",
       "      <td>797</td>\n",
       "      <td>NaN</td>\n",
       "      <td>non-neutral</td>\n",
       "      <td>neutral</td>\n",
       "      <td>NaN</td>\n",
       "      <td>Among several other reasons, consider this par...</td>\n",
       "      <td>\"</td>\n",
       "      <td>183</td>\n",
       "    </tr>\n",
       "  </tbody>\n",
       "</table>\n",
       "</div>"
      ],
      "text/plain": [
       "      annotation  convoId emotion1     emotion2 emotion3 utterance1  \\\n",
       "11903    2010101      797      NaN  non-neutral  neutral        NaN   \n",
       "\n",
       "                                              utterance2 utterance3  \\\n",
       "11903  Among several other reasons, consider this par...          \"   \n",
       "\n",
       "       wordsPerTurn  \n",
       "11903           183  "
      ]
     },
     "execution_count": 21,
     "metadata": {},
     "output_type": "execute_result"
    }
   ],
   "source": [
    "df[df.wordsPerTurn == 183] # This is a valid 183 word turn"
   ]
  },
  {
   "cell_type": "code",
   "execution_count": 22,
   "metadata": {
    "scrolled": true
   },
   "outputs": [
    {
     "data": {
      "text/plain": [
       "<matplotlib.axes._subplots.AxesSubplot at 0x11a0d2828>"
      ]
     },
     "execution_count": 22,
     "metadata": {},
     "output_type": "execute_result"
    },
    {
     "data": {
      "image/png": "[encoded data removed]",
      "text/plain": [
       "<Figure size 432x288 with 1 Axes>"
      ]
     },
     "metadata": {
      "needs_background": "light"
     },
     "output_type": "display_data"
    }
   ],
   "source": [
    "# range between 1 - 183\n",
    "df[\"wordsPerTurn\"].hist()"
   ]
  },
  {
   "cell_type": "code",
   "execution_count": 23,
   "metadata": {},
   "outputs": [
    {
     "data": {
      "text/plain": [
       "<matplotlib.axes._subplots.AxesSubplot at 0x11a0055f8>"
      ]
     },
     "execution_count": 23,
     "metadata": {},
     "output_type": "execute_result"
    },
    {
     "data": {
      "image/png": "[encoded data removed]",
      "text/plain": [
       "<Figure size 432x288 with 1 Axes>"
      ]
     },
     "metadata": {
      "needs_background": "light"
     },
     "output_type": "display_data"
    }
   ],
   "source": [
    "s = df.wordsPerTurn\n",
    "s[s <= 50].hist(bins=50)"
   ]
  },
  {
   "cell_type": "markdown",
   "metadata": {},
   "source": [
    "## Word level exploration"
   ]
  },
  {
   "cell_type": "code",
   "execution_count": 24,
   "metadata": {},
   "outputs": [],
   "source": [
    "s = df.utterance2\n",
    "\n",
    "text = ' '.join(s.values)"
   ]
  },
  {
   "cell_type": "code",
   "execution_count": 25,
   "metadata": {},
   "outputs": [],
   "source": [
    "tokenizer = TweetTokenizer(reduce_len=True, preserve_case=False)"
   ]
  },
  {
   "cell_type": "code",
   "execution_count": 26,
   "metadata": {},
   "outputs": [
    {
     "data": {
      "text/plain": [
       "[(('i', 'love', 'you'), 76),\n",
       " (('i', 'want', 'to'), 47),\n",
       " (('a', 'lot', 'of'), 45),\n",
       " (('!', '!', '!'), 42),\n",
       " (('i', 'need', 'to'), 42),\n",
       " (('i', 'have', 'a'), 41),\n",
       " (('i', \"don't\", 'think'), 35),\n",
       " (('do', 'you', 'have'), 32),\n",
       " (('let', 'me', 'know'), 32),\n",
       " ((\"i'm\", 'going', 'to'), 32),\n",
       " (('i', \"don't\", 'know'), 31),\n",
       " (('i', 'have', 'to'), 29),\n",
       " (('i', 'think', 'i'), 26),\n",
       " (('?', '?', '?'), 24),\n",
       " (('you', 'want', 'to'), 24),\n",
       " (('(', 'y', ')'), 23),\n",
       " (('at', 'time', '_1'), 23),\n",
       " (('one', 'of', 'the'), 23),\n",
       " (('love', 'you', 'i'), 21),\n",
       " (('be', 'able', 'to'), 20),\n",
       " (('?', 'i', 'think'), 20),\n",
       " (('let', 'you', 'know'), 19),\n",
       " (('if', 'you', 'want'), 19),\n",
       " (('what', 'are', 'you'), 18),\n",
       " (('love', 'you', 'too'), 18),\n",
       " (('i', 'feel', 'like'), 18),\n",
       " (('oh', 'my', 'god'), 17),\n",
       " (('to', 'go', 'to'), 17),\n",
       " (('i', \"don't\", 'want'), 17),\n",
       " (('i', \"don't\", 'have'), 17)]"
      ]
     },
     "execution_count": 26,
     "metadata": {},
     "output_type": "execute_result"
    }
   ],
   "source": [
    "text_trigrams = [i for i in ngrams(tokenizer.tokenize(text), 3)]\n",
    "Counter(text_trigrams).most_common(30)"
   ]
  },
  {
   "cell_type": "code",
   "execution_count": 27,
   "metadata": {
    "scrolled": true
   },
   "outputs": [
    {
     "data": {
      "text/plain": [
       "[(('plain', 'sight', 'loolll'), 1),\n",
       " (('in', 'plain', 'sight'), 1),\n",
       " (('hidden', 'in', 'plain'), 1),\n",
       " (('humor', 'hidden', 'in'), 1),\n",
       " (('adult', 'humor', 'hidden'), 1),\n",
       " (('of', 'adult', 'humor'), 1),\n",
       " (('lot', 'of', 'adult'), 1),\n",
       " (('show', 'but', \"there's\"), 1),\n",
       " (('kids', 'show', 'but'), 1),\n",
       " (('a', 'kids', 'show'), 1),\n",
       " (('be', 'a', 'kids'), 1),\n",
       " (('its', 'supposed', 'to'), 1),\n",
       " (('lolll', 'its', 'supposed'), 1),\n",
       " (('weird', 'lolll', 'its'), 1),\n",
       " ((\"it's\", 'weird', 'lolll'), 1),\n",
       " (('it', \"it's\", 'weird'), 1),\n",
       " (('watch', 'it', \"it's\"), 1),\n",
       " (('used', 'to', 'watch'), 1),\n",
       " (('cartoon', '?', 'i'), 1),\n",
       " (('that', 'cartoon', '?'), 1),\n",
       " (('likee', 'that', 'cartoon'), 1),\n",
       " (('you', 'likee', 'that'), 1),\n",
       " (('lolll', 'you', 'likee'), 1),\n",
       " (('it', 'lolll', 'you'), 1),\n",
       " (('on', 'it', 'lolll'), 1),\n",
       " (('_112', 'on', 'it'), 1),\n",
       " (('person', '_112', 'on'), 1),\n",
       " (('with', 'person', '_112'), 1),\n",
       " (('shirt', 'with', 'person'), 1),\n",
       " (('a', 'shirt', 'with'), 1)]"
      ]
     },
     "execution_count": 27,
     "metadata": {},
     "output_type": "execute_result"
    }
   ],
   "source": [
    "Counter(text_trigrams).most_common()[:-30-1:-1]\n",
    "# c.most_common()[:-n-1:-1] -> Least common n"
   ]
  },
  {
   "cell_type": "code",
   "execution_count": 28,
   "metadata": {},
   "outputs": [],
   "source": [
    "# Summary:\n",
    "# -> Mispellings\n",
    "# -> Not that useful"
   ]
  },
  {
   "cell_type": "markdown",
   "metadata": {},
   "source": [
    "## Look at a couple of annotator scores"
   ]
  },
  {
   "cell_type": "code",
   "execution_count": 29,
   "metadata": {},
   "outputs": [],
   "source": [
    "def f(convo):\n",
    "    # get all speakers\n",
    "    speakers = []\n",
    "    for t in convo:\n",
    "        if t[\"speaker\"] not in speakers:\n",
    "            speakers.append(t[\"speaker\"])\n",
    "    \n",
    "    print(\"[neutral, joy, sadness, fear, anger,  surprise, disgust]\")\n",
    "    for idx, t in enumerate(convo):\n",
    "        print(\"T{} Speaker {}: {} -> ({} -> {})\".format(idx+1,speakers.index(t[\"speaker\"])+1,t[\"utterance\"],t[\"annotation\"],t[\"emotion\"]))\n",
    "        "
   ]
  },
  {
   "cell_type": "code",
   "execution_count": 30,
   "metadata": {},
   "outputs": [
    {
     "name": "stdout",
     "output_type": "stream",
     "text": [
      "[neutral, joy, sadness, fear, anger,  surprise, disgust]\n",
      "T1 Speaker 1: Have u seen what the heart smiley does on messengers -> (3100010 -> neutral)\n",
      "T2 Speaker 1: Watch -> (3100010 -> neutral)\n",
      "T3 Speaker 2: Show me the love -> (3200000 -> neutral)\n",
      "T4 Speaker 1: Wait for it.. -> (5000000 -> neutral)\n",
      "T5 Speaker 1: Click on it -> (4100000 -> neutral)\n",
      "T6 Speaker 2: Nothing -> (4010000 -> neutral)\n",
      "T7 Speaker 2: When I send that there's random hearts flying -> (3000020 -> neutral)\n",
      "T8 Speaker 1: Yes exactly -> (2300000 -> joy)\n",
      "T9 Speaker 1: Hearts flying -> (1300010 -> joy)\n",
      "T10 Speaker 1: For u -> (2300000 -> joy)\n",
      "T11 Speaker 1: All the way from bharat -> (3200000 -> neutral)\n",
      "T12 Speaker 2: Not when I click on yours though -> (3020000 -> neutral)\n",
      "T13 Speaker 1: Ok then it happens s without clicking is it -> (4000010 -> neutral)\n",
      "T14 Speaker 1: Doesn't it fly on yours with my emoji? -> (3000020 -> neutral)\n",
      "T15 Speaker 2: Muchos gracias -> (1400000 -> joy)\n",
      "T16 Speaker 2: No nothing happens with yours -> (4010000 -> neutral)\n",
      "T17 Speaker 2: Only the sender can see it -> (5000000 -> neutral)\n",
      "T18 Speaker 1: Oh -> (2020010 -> non-neutral)\n",
      "T19 Speaker 1: I thought person_3 said it flew on hers as well yday when I sent her my love -> (3000020 -> neutral)\n",
      "T20 Speaker 2: Maybe your love for me doesn't fly -> (1030010 -> sadness)\n",
      "T21 Speaker 2: Hurtful -> (0050000 -> sadness)\n"
     ]
    }
   ],
   "source": [
    "f(datastore[3])"
   ]
  },
  {
   "cell_type": "code",
   "execution_count": 31,
   "metadata": {},
   "outputs": [],
   "source": [
    "# Summary:\n",
    "# -> locations are anonymised (location_83)"
   ]
  },
  {
   "cell_type": "markdown",
   "metadata": {},
   "source": [
    "## Distribution of the Annotator Scores"
   ]
  },
  {
   "cell_type": "code",
   "execution_count": 32,
   "metadata": {},
   "outputs": [],
   "source": [
    "# Annotation\n",
    "# 5 Votes\n",
    "# [neutral, joy, sadness, fear, anger,  surprise, disgust]\n",
    "# 11 choose 6 -> 462 "
   ]
  },
  {
   "cell_type": "code",
   "execution_count": 33,
   "metadata": {},
   "outputs": [],
   "source": [
    "s = df.annotation"
   ]
  },
  {
   "cell_type": "code",
   "execution_count": 34,
   "metadata": {},
   "outputs": [
    {
     "data": {
      "text/plain": [
       "344"
      ]
     },
     "execution_count": 34,
     "metadata": {},
     "output_type": "execute_result"
    }
   ],
   "source": [
    "len(s.unique()) "
   ]
  },
  {
   "cell_type": "code",
   "execution_count": 35,
   "metadata": {},
   "outputs": [
    {
     "data": {
      "text/plain": [
       "10319.4"
      ]
     },
     "execution_count": 35,
     "metadata": {},
     "output_type": "execute_result"
    }
   ],
   "source": [
    "# Find 90% of the annonators\n",
    "len(s)*0.7"
   ]
  },
  {
   "cell_type": "code",
   "execution_count": 36,
   "metadata": {},
   "outputs": [
    {
     "data": {
      "text/html": [
       "<div>\n",
       "<style scoped>\n",
       "    .dataframe tbody tr th:only-of-type {\n",
       "        vertical-align: middle;\n",
       "    }\n",
       "\n",
       "    .dataframe tbody tr th {\n",
       "        vertical-align: top;\n",
       "    }\n",
       "\n",
       "    .dataframe thead th {\n",
       "        text-align: right;\n",
       "    }\n",
       "</style>\n",
       "<table border=\"1\" class=\"dataframe\">\n",
       "  <thead>\n",
       "    <tr style=\"text-align: right;\">\n",
       "      <th></th>\n",
       "    </tr>\n",
       "  </thead>\n",
       "  <tbody>\n",
       "  </tbody>\n",
       "</table>\n",
       "</div>"
      ],
      "text/plain": [
       "Empty DataFrame\n",
       "Columns: []\n",
       "Index: []"
      ]
     },
     "execution_count": 36,
     "metadata": {},
     "output_type": "execute_result"
    }
   ],
   "source": [
    "pd.DataFrame()"
   ]
  },
  {
   "cell_type": "code",
   "execution_count": 37,
   "metadata": {},
   "outputs": [],
   "source": [
    "d = s.groupby(s).agg(\"count\").sort_values(ascending=False).to_frame(\"count\")\n",
    "d[\"aggCount\"] = 0\n",
    "\n",
    "for i in range(len(d)):\n",
    "    # get prev aggCount\n",
    "    prev = 0\n",
    "    if i-1 >= 0:\n",
    "        prev = d.iat[i-1, 1]\n",
    "        \n",
    "    val = d.iat[i,0]\n",
    "    \n",
    "    d.iat[i,1] = prev + val"
   ]
  },
  {
   "cell_type": "code",
   "execution_count": 38,
   "metadata": {},
   "outputs": [
    {
     "data": {
      "text/plain": [
       "<matplotlib.axes._subplots.AxesSubplot at 0x11a34d908>"
      ]
     },
     "execution_count": 38,
     "metadata": {},
     "output_type": "execute_result"
    },
    {
     "data": {
      "image/png": "[encoded data removed]",
      "text/plain": [
       "<Figure size 432x288 with 1 Axes>"
      ]
     },
     "metadata": {
      "needs_background": "light"
     },
     "output_type": "display_data"
    }
   ],
   "source": [
    "d[d.aggCount < 10000][\"count\"].plot.bar()\n",
    "# [neutral, joy, sadness, fear, anger,  surprise, disgust]"
   ]
  },
  {
   "cell_type": "code",
   "execution_count": 39,
   "metadata": {},
   "outputs": [],
   "source": [
    "# Summary:\n",
    "# -> not that informative? \n",
    "# -> 70% of all annotations are shown in the above graph\n"
   ]
  },
  {
   "cell_type": "markdown",
   "metadata": {},
   "source": [
    "## Markov Chain analysis"
   ]
  },
  {
   "cell_type": "code",
   "execution_count": 40,
   "metadata": {},
   "outputs": [],
   "source": [
    "# Question:\n",
    "# - Does having the prev turn help predict the emotion of the current turn?\n",
    "\n",
    "# Experiment:\n",
    "# - Compute Markov Transition matrix to figure out relationship"
   ]
  },
  {
   "cell_type": "code",
   "execution_count": 41,
   "metadata": {},
   "outputs": [
    {
     "data": {
      "text/html": [
       "<div>\n",
       "<style scoped>\n",
       "    .dataframe tbody tr th:only-of-type {\n",
       "        vertical-align: middle;\n",
       "    }\n",
       "\n",
       "    .dataframe tbody tr th {\n",
       "        vertical-align: top;\n",
       "    }\n",
       "\n",
       "    .dataframe thead th {\n",
       "        text-align: right;\n",
       "    }\n",
       "</style>\n",
       "<table border=\"1\" class=\"dataframe\">\n",
       "  <thead>\n",
       "    <tr style=\"text-align: right;\">\n",
       "      <th></th>\n",
       "      <th>annotation</th>\n",
       "      <th>convoId</th>\n",
       "      <th>emotion1</th>\n",
       "      <th>emotion2</th>\n",
       "      <th>emotion3</th>\n",
       "      <th>utterance1</th>\n",
       "      <th>utterance2</th>\n",
       "      <th>utterance3</th>\n",
       "      <th>wordsPerTurn</th>\n",
       "    </tr>\n",
       "  </thead>\n",
       "  <tbody>\n",
       "    <tr>\n",
       "      <th>0</th>\n",
       "      <td>4001000</td>\n",
       "      <td>0</td>\n",
       "      <td>NaN</td>\n",
       "      <td>neutral</td>\n",
       "      <td>neutral</td>\n",
       "      <td>NaN</td>\n",
       "      <td>Sorry to bother you but do you have the 270 te...</td>\n",
       "      <td>What's it called</td>\n",
       "      <td>11</td>\n",
       "    </tr>\n",
       "    <tr>\n",
       "      <th>1</th>\n",
       "      <td>4000010</td>\n",
       "      <td>0</td>\n",
       "      <td>neutral</td>\n",
       "      <td>neutral</td>\n",
       "      <td>neutral</td>\n",
       "      <td>Sorry to bother you but do you have the 270 te...</td>\n",
       "      <td>What's it called</td>\n",
       "      <td>Digital design and principles I think</td>\n",
       "      <td>3</td>\n",
       "    </tr>\n",
       "    <tr>\n",
       "      <th>2</th>\n",
       "      <td>5000000</td>\n",
       "      <td>0</td>\n",
       "      <td>neutral</td>\n",
       "      <td>neutral</td>\n",
       "      <td>neutral</td>\n",
       "      <td>What's it called</td>\n",
       "      <td>Digital design and principles I think</td>\n",
       "      <td>I don't think so?</td>\n",
       "      <td>6</td>\n",
       "    </tr>\n",
       "    <tr>\n",
       "      <th>3</th>\n",
       "      <td>3000020</td>\n",
       "      <td>0</td>\n",
       "      <td>neutral</td>\n",
       "      <td>neutral</td>\n",
       "      <td>neutral</td>\n",
       "      <td>Digital design and principles I think</td>\n",
       "      <td>I don't think so?</td>\n",
       "      <td>I could be wrong</td>\n",
       "      <td>4</td>\n",
       "    </tr>\n",
       "    <tr>\n",
       "      <th>4</th>\n",
       "      <td>5000000</td>\n",
       "      <td>0</td>\n",
       "      <td>neutral</td>\n",
       "      <td>neutral</td>\n",
       "      <td>neutral</td>\n",
       "      <td>I don't think so?</td>\n",
       "      <td>I could be wrong</td>\n",
       "      <td>Ok that's fine. I'm just trying hard to avoid ...</td>\n",
       "      <td>4</td>\n",
       "    </tr>\n",
       "    <tr>\n",
       "      <th>5</th>\n",
       "      <td>3020000</td>\n",
       "      <td>0</td>\n",
       "      <td>neutral</td>\n",
       "      <td>neutral</td>\n",
       "      <td>neutral</td>\n",
       "      <td>I could be wrong</td>\n",
       "      <td>Ok that's fine. I'm just trying hard to avoid ...</td>\n",
       "      <td>You don't need the boom</td>\n",
       "      <td>12</td>\n",
       "    </tr>\n",
       "    <tr>\n",
       "      <th>6</th>\n",
       "      <td>5000000</td>\n",
       "      <td>0</td>\n",
       "      <td>neutral</td>\n",
       "      <td>neutral</td>\n",
       "      <td>neutral</td>\n",
       "      <td>Ok that's fine. I'm just trying hard to avoid ...</td>\n",
       "      <td>You don't need the boom</td>\n",
       "      <td>*book</td>\n",
       "      <td>5</td>\n",
       "    </tr>\n",
       "    <tr>\n",
       "      <th>7</th>\n",
       "      <td>5000000</td>\n",
       "      <td>0</td>\n",
       "      <td>neutral</td>\n",
       "      <td>neutral</td>\n",
       "      <td>neutral</td>\n",
       "      <td>You don't need the boom</td>\n",
       "      <td>*book</td>\n",
       "      <td>If I do have it, I never used it</td>\n",
       "      <td>1</td>\n",
       "    </tr>\n",
       "    <tr>\n",
       "      <th>8</th>\n",
       "      <td>4000010</td>\n",
       "      <td>0</td>\n",
       "      <td>neutral</td>\n",
       "      <td>neutral</td>\n",
       "      <td>non-neutral</td>\n",
       "      <td>*book</td>\n",
       "      <td>If I do have it, I never used it</td>\n",
       "      <td>But you had a good professor</td>\n",
       "      <td>9</td>\n",
       "    </tr>\n",
       "    <tr>\n",
       "      <th>9</th>\n",
       "      <td>2110100</td>\n",
       "      <td>0</td>\n",
       "      <td>neutral</td>\n",
       "      <td>non-neutral</td>\n",
       "      <td>neutral</td>\n",
       "      <td>If I do have it, I never used it</td>\n",
       "      <td>But you had a good professor</td>\n",
       "      <td>I mean you can use the notes</td>\n",
       "      <td>6</td>\n",
       "    </tr>\n",
       "    <tr>\n",
       "      <th>10</th>\n",
       "      <td>5000000</td>\n",
       "      <td>0</td>\n",
       "      <td>non-neutral</td>\n",
       "      <td>neutral</td>\n",
       "      <td>neutral</td>\n",
       "      <td>But you had a good professor</td>\n",
       "      <td>I mean you can use the notes</td>\n",
       "      <td>It tells you everything you need to know</td>\n",
       "      <td>7</td>\n",
       "    </tr>\n",
       "    <tr>\n",
       "      <th>11</th>\n",
       "      <td>4100000</td>\n",
       "      <td>0</td>\n",
       "      <td>neutral</td>\n",
       "      <td>neutral</td>\n",
       "      <td>neutral</td>\n",
       "      <td>I mean you can use the notes</td>\n",
       "      <td>It tells you everything you need to know</td>\n",
       "      <td>That helped me more than person_0 tbh</td>\n",
       "      <td>8</td>\n",
       "    </tr>\n",
       "    <tr>\n",
       "      <th>12</th>\n",
       "      <td>4000010</td>\n",
       "      <td>0</td>\n",
       "      <td>neutral</td>\n",
       "      <td>neutral</td>\n",
       "      <td>neutral</td>\n",
       "      <td>It tells you everything you need to know</td>\n",
       "      <td>That helped me more than person_0 tbh</td>\n",
       "      <td>Oh alright then. I really want to do well in t...</td>\n",
       "      <td>7</td>\n",
       "    </tr>\n",
       "    <tr>\n",
       "      <th>13</th>\n",
       "      <td>4100000</td>\n",
       "      <td>0</td>\n",
       "      <td>neutral</td>\n",
       "      <td>neutral</td>\n",
       "      <td>neutral</td>\n",
       "      <td>That helped me more than person_0 tbh</td>\n",
       "      <td>Oh alright then. I really want to do well in t...</td>\n",
       "      <td>Like the lecture notes and the summary notes a...</td>\n",
       "      <td>17</td>\n",
       "    </tr>\n",
       "    <tr>\n",
       "      <th>14</th>\n",
       "      <td>4100000</td>\n",
       "      <td>0</td>\n",
       "      <td>neutral</td>\n",
       "      <td>neutral</td>\n",
       "      <td>neutral</td>\n",
       "      <td>Oh alright then. I really want to do well in t...</td>\n",
       "      <td>Like the lecture notes and the summary notes a...</td>\n",
       "      <td>So idk if the book will help</td>\n",
       "      <td>19</td>\n",
       "    </tr>\n",
       "    <tr>\n",
       "      <th>15</th>\n",
       "      <td>5000000</td>\n",
       "      <td>0</td>\n",
       "      <td>neutral</td>\n",
       "      <td>neutral</td>\n",
       "      <td>neutral</td>\n",
       "      <td>Like the lecture notes and the summary notes a...</td>\n",
       "      <td>So idk if the book will help</td>\n",
       "      <td>Ok</td>\n",
       "      <td>7</td>\n",
       "    </tr>\n",
       "    <tr>\n",
       "      <th>16</th>\n",
       "      <td>4100000</td>\n",
       "      <td>0</td>\n",
       "      <td>neutral</td>\n",
       "      <td>neutral</td>\n",
       "      <td>neutral</td>\n",
       "      <td>So idk if the book will help</td>\n",
       "      <td>Ok</td>\n",
       "      <td>Btw first exam is the same as first practice exam</td>\n",
       "      <td>1</td>\n",
       "    </tr>\n",
       "    <tr>\n",
       "      <th>17</th>\n",
       "      <td>4100000</td>\n",
       "      <td>0</td>\n",
       "      <td>neutral</td>\n",
       "      <td>neutral</td>\n",
       "      <td>neutral</td>\n",
       "      <td>Ok</td>\n",
       "      <td>Btw first exam is the same as first practice exam</td>\n",
       "      <td>Like 75% identical if not more</td>\n",
       "      <td>10</td>\n",
       "    </tr>\n",
       "    <tr>\n",
       "      <th>18</th>\n",
       "      <td>4100000</td>\n",
       "      <td>0</td>\n",
       "      <td>neutral</td>\n",
       "      <td>neutral</td>\n",
       "      <td>neutral</td>\n",
       "      <td>Btw first exam is the same as first practice exam</td>\n",
       "      <td>Like 75% identical if not more</td>\n",
       "      <td>So if you get a 90%+ you should be in good sha...</td>\n",
       "      <td>6</td>\n",
       "    </tr>\n",
       "    <tr>\n",
       "      <th>19</th>\n",
       "      <td>4100000</td>\n",
       "      <td>0</td>\n",
       "      <td>neutral</td>\n",
       "      <td>neutral</td>\n",
       "      <td>non-neutral</td>\n",
       "      <td>Like 75% identical if not more</td>\n",
       "      <td>So if you get a 90%+ you should be in good sha...</td>\n",
       "      <td>Wow</td>\n",
       "      <td>25</td>\n",
       "    </tr>\n",
       "    <tr>\n",
       "      <th>20</th>\n",
       "      <td>2100020</td>\n",
       "      <td>0</td>\n",
       "      <td>neutral</td>\n",
       "      <td>non-neutral</td>\n",
       "      <td>neutral</td>\n",
       "      <td>So if you get a 90%+ you should be in good sha...</td>\n",
       "      <td>Wow</td>\n",
       "      <td>Everyone got hammered on the last exam last sem</td>\n",
       "      <td>1</td>\n",
       "    </tr>\n",
       "    <tr>\n",
       "      <th>21</th>\n",
       "      <td>3000002</td>\n",
       "      <td>0</td>\n",
       "      <td>non-neutral</td>\n",
       "      <td>neutral</td>\n",
       "      <td>neutral</td>\n",
       "      <td>Wow</td>\n",
       "      <td>Everyone got hammered on the last exam last sem</td>\n",
       "      <td>Cause the no one knew wtf was going on for the...</td>\n",
       "      <td>9</td>\n",
       "    </tr>\n",
       "    <tr>\n",
       "      <th>22</th>\n",
       "      <td>3000101</td>\n",
       "      <td>0</td>\n",
       "      <td>neutral</td>\n",
       "      <td>neutral</td>\n",
       "      <td>NaN</td>\n",
       "      <td>Everyone got hammered on the last exam last sem</td>\n",
       "      <td>Cause the no one knew wtf was going on for the...</td>\n",
       "      <td>NaN</td>\n",
       "      <td>16</td>\n",
       "    </tr>\n",
       "    <tr>\n",
       "      <th>23</th>\n",
       "      <td>4000001</td>\n",
       "      <td>1</td>\n",
       "      <td>NaN</td>\n",
       "      <td>neutral</td>\n",
       "      <td>disgust</td>\n",
       "      <td>NaN</td>\n",
       "      <td>lmk when you get your server back up</td>\n",
       "      <td>if ever</td>\n",
       "      <td>8</td>\n",
       "    </tr>\n",
       "    <tr>\n",
       "      <th>24</th>\n",
       "      <td>1000004</td>\n",
       "      <td>1</td>\n",
       "      <td>neutral</td>\n",
       "      <td>disgust</td>\n",
       "      <td>neutral</td>\n",
       "      <td>lmk when you get your server back up</td>\n",
       "      <td>if ever</td>\n",
       "      <td>or make a new one</td>\n",
       "      <td>2</td>\n",
       "    </tr>\n",
       "    <tr>\n",
       "      <th>25</th>\n",
       "      <td>4000100</td>\n",
       "      <td>1</td>\n",
       "      <td>disgust</td>\n",
       "      <td>neutral</td>\n",
       "      <td>neutral</td>\n",
       "      <td>if ever</td>\n",
       "      <td>or make a new one</td>\n",
       "      <td>We should institute a payment plan seeing as w...</td>\n",
       "      <td>5</td>\n",
       "    </tr>\n",
       "    <tr>\n",
       "      <th>26</th>\n",
       "      <td>4000001</td>\n",
       "      <td>1</td>\n",
       "      <td>neutral</td>\n",
       "      <td>neutral</td>\n",
       "      <td>neutral</td>\n",
       "      <td>or make a new one</td>\n",
       "      <td>We should institute a payment plan seeing as w...</td>\n",
       "      <td>why</td>\n",
       "      <td>16</td>\n",
       "    </tr>\n",
       "    <tr>\n",
       "      <th>27</th>\n",
       "      <td>4000010</td>\n",
       "      <td>1</td>\n",
       "      <td>neutral</td>\n",
       "      <td>neutral</td>\n",
       "      <td>neutral</td>\n",
       "      <td>We should institute a payment plan seeing as w...</td>\n",
       "      <td>why</td>\n",
       "      <td>does it cost you anything</td>\n",
       "      <td>1</td>\n",
       "    </tr>\n",
       "    <tr>\n",
       "      <th>28</th>\n",
       "      <td>4000010</td>\n",
       "      <td>1</td>\n",
       "      <td>neutral</td>\n",
       "      <td>neutral</td>\n",
       "      <td>neutral</td>\n",
       "      <td>why</td>\n",
       "      <td>does it cost you anything</td>\n",
       "      <td>yeah 20$ per month</td>\n",
       "      <td>5</td>\n",
       "    </tr>\n",
       "    <tr>\n",
       "      <th>29</th>\n",
       "      <td>5000000</td>\n",
       "      <td>1</td>\n",
       "      <td>neutral</td>\n",
       "      <td>neutral</td>\n",
       "      <td>surprise</td>\n",
       "      <td>does it cost you anything</td>\n",
       "      <td>yeah 20$ per month</td>\n",
       "      <td>ohhh</td>\n",
       "      <td>4</td>\n",
       "    </tr>\n",
       "    <tr>\n",
       "      <th>...</th>\n",
       "      <td>...</td>\n",
       "      <td>...</td>\n",
       "      <td>...</td>\n",
       "      <td>...</td>\n",
       "      <td>...</td>\n",
       "      <td>...</td>\n",
       "      <td>...</td>\n",
       "      <td>...</td>\n",
       "      <td>...</td>\n",
       "    </tr>\n",
       "    <tr>\n",
       "      <th>14712</th>\n",
       "      <td>5000000</td>\n",
       "      <td>997</td>\n",
       "      <td>neutral</td>\n",
       "      <td>neutral</td>\n",
       "      <td>joy</td>\n",
       "      <td>No echo breaking</td>\n",
       "      <td>I could barely understand</td>\n",
       "      <td>lol ;D</td>\n",
       "      <td>4</td>\n",
       "    </tr>\n",
       "    <tr>\n",
       "      <th>14713</th>\n",
       "      <td>1400000</td>\n",
       "      <td>997</td>\n",
       "      <td>neutral</td>\n",
       "      <td>joy</td>\n",
       "      <td>neutral</td>\n",
       "      <td>I could barely understand</td>\n",
       "      <td>lol ;D</td>\n",
       "      <td>okay</td>\n",
       "      <td>2</td>\n",
       "    </tr>\n",
       "    <tr>\n",
       "      <th>14714</th>\n",
       "      <td>5000000</td>\n",
       "      <td>997</td>\n",
       "      <td>joy</td>\n",
       "      <td>neutral</td>\n",
       "      <td>neutral</td>\n",
       "      <td>lol ;D</td>\n",
       "      <td>okay</td>\n",
       "      <td>But later it better luckily</td>\n",
       "      <td>1</td>\n",
       "    </tr>\n",
       "    <tr>\n",
       "      <th>14715</th>\n",
       "      <td>5000000</td>\n",
       "      <td>997</td>\n",
       "      <td>neutral</td>\n",
       "      <td>neutral</td>\n",
       "      <td>neutral</td>\n",
       "      <td>okay</td>\n",
       "      <td>But later it better luckily</td>\n",
       "      <td>I went out of the room</td>\n",
       "      <td>5</td>\n",
       "    </tr>\n",
       "    <tr>\n",
       "      <th>14716</th>\n",
       "      <td>5000000</td>\n",
       "      <td>997</td>\n",
       "      <td>neutral</td>\n",
       "      <td>neutral</td>\n",
       "      <td>neutral</td>\n",
       "      <td>But later it better luckily</td>\n",
       "      <td>I went out of the room</td>\n",
       "      <td>maybe that's why</td>\n",
       "      <td>6</td>\n",
       "    </tr>\n",
       "    <tr>\n",
       "      <th>14717</th>\n",
       "      <td>4000010</td>\n",
       "      <td>997</td>\n",
       "      <td>neutral</td>\n",
       "      <td>neutral</td>\n",
       "      <td>NaN</td>\n",
       "      <td>I went out of the room</td>\n",
       "      <td>maybe that's why</td>\n",
       "      <td>NaN</td>\n",
       "      <td>3</td>\n",
       "    </tr>\n",
       "    <tr>\n",
       "      <th>14718</th>\n",
       "      <td>3100010</td>\n",
       "      <td>998</td>\n",
       "      <td>NaN</td>\n",
       "      <td>neutral</td>\n",
       "      <td>neutral</td>\n",
       "      <td>NaN</td>\n",
       "      <td>I got 2259</td>\n",
       "      <td>Like right in the middle of gold</td>\n",
       "      <td>3</td>\n",
       "    </tr>\n",
       "    <tr>\n",
       "      <th>14719</th>\n",
       "      <td>3100010</td>\n",
       "      <td>998</td>\n",
       "      <td>neutral</td>\n",
       "      <td>neutral</td>\n",
       "      <td>non-neutral</td>\n",
       "      <td>I got 2259</td>\n",
       "      <td>Like right in the middle of gold</td>\n",
       "      <td>doope</td>\n",
       "      <td>7</td>\n",
       "    </tr>\n",
       "    <tr>\n",
       "      <th>14720</th>\n",
       "      <td>2200010</td>\n",
       "      <td>998</td>\n",
       "      <td>neutral</td>\n",
       "      <td>non-neutral</td>\n",
       "      <td>neutral</td>\n",
       "      <td>Like right in the middle of gold</td>\n",
       "      <td>doope</td>\n",
       "      <td>Idk where you are haha</td>\n",
       "      <td>1</td>\n",
       "    </tr>\n",
       "    <tr>\n",
       "      <th>14721</th>\n",
       "      <td>3000020</td>\n",
       "      <td>998</td>\n",
       "      <td>non-neutral</td>\n",
       "      <td>neutral</td>\n",
       "      <td>neutral</td>\n",
       "      <td>doope</td>\n",
       "      <td>Idk where you are haha</td>\n",
       "      <td>Also I'm about to go drone some shit haha</td>\n",
       "      <td>5</td>\n",
       "    </tr>\n",
       "    <tr>\n",
       "      <th>14722</th>\n",
       "      <td>3200000</td>\n",
       "      <td>998</td>\n",
       "      <td>neutral</td>\n",
       "      <td>neutral</td>\n",
       "      <td>joy</td>\n",
       "      <td>Idk where you are haha</td>\n",
       "      <td>Also I'm about to go drone some shit haha</td>\n",
       "      <td>doope</td>\n",
       "      <td>9</td>\n",
       "    </tr>\n",
       "    <tr>\n",
       "      <th>14723</th>\n",
       "      <td>2300000</td>\n",
       "      <td>998</td>\n",
       "      <td>neutral</td>\n",
       "      <td>joy</td>\n",
       "      <td>neutral</td>\n",
       "      <td>Also I'm about to go drone some shit haha</td>\n",
       "      <td>doope</td>\n",
       "      <td>2770</td>\n",
       "      <td>1</td>\n",
       "    </tr>\n",
       "    <tr>\n",
       "      <th>14724</th>\n",
       "      <td>4100000</td>\n",
       "      <td>998</td>\n",
       "      <td>joy</td>\n",
       "      <td>neutral</td>\n",
       "      <td>joy</td>\n",
       "      <td>doope</td>\n",
       "      <td>2770</td>\n",
       "      <td>Yay were close haha</td>\n",
       "      <td>1</td>\n",
       "    </tr>\n",
       "    <tr>\n",
       "      <th>14725</th>\n",
       "      <td>0500000</td>\n",
       "      <td>998</td>\n",
       "      <td>neutral</td>\n",
       "      <td>joy</td>\n",
       "      <td>NaN</td>\n",
       "      <td>2770</td>\n",
       "      <td>Yay were close haha</td>\n",
       "      <td>NaN</td>\n",
       "      <td>4</td>\n",
       "    </tr>\n",
       "    <tr>\n",
       "      <th>14726</th>\n",
       "      <td>4000010</td>\n",
       "      <td>999</td>\n",
       "      <td>NaN</td>\n",
       "      <td>neutral</td>\n",
       "      <td>neutral</td>\n",
       "      <td>NaN</td>\n",
       "      <td>Is that one crying because the other cactus left?</td>\n",
       "      <td>yeaa</td>\n",
       "      <td>9</td>\n",
       "    </tr>\n",
       "    <tr>\n",
       "      <th>14727</th>\n",
       "      <td>4100000</td>\n",
       "      <td>999</td>\n",
       "      <td>neutral</td>\n",
       "      <td>neutral</td>\n",
       "      <td>sadness</td>\n",
       "      <td>Is that one crying because the other cactus left?</td>\n",
       "      <td>yeaa</td>\n",
       "      <td>Aww :(</td>\n",
       "      <td>1</td>\n",
       "    </tr>\n",
       "    <tr>\n",
       "      <th>14728</th>\n",
       "      <td>0050000</td>\n",
       "      <td>999</td>\n",
       "      <td>neutral</td>\n",
       "      <td>sadness</td>\n",
       "      <td>neutral</td>\n",
       "      <td>yeaa</td>\n",
       "      <td>Aww :(</td>\n",
       "      <td>what is that</td>\n",
       "      <td>2</td>\n",
       "    </tr>\n",
       "    <tr>\n",
       "      <th>14729</th>\n",
       "      <td>4000010</td>\n",
       "      <td>999</td>\n",
       "      <td>sadness</td>\n",
       "      <td>neutral</td>\n",
       "      <td>neutral</td>\n",
       "      <td>Aww :(</td>\n",
       "      <td>what is that</td>\n",
       "      <td>It's person_112 and person_183</td>\n",
       "      <td>3</td>\n",
       "    </tr>\n",
       "    <tr>\n",
       "      <th>14730</th>\n",
       "      <td>5000000</td>\n",
       "      <td>999</td>\n",
       "      <td>neutral</td>\n",
       "      <td>neutral</td>\n",
       "      <td>neutral</td>\n",
       "      <td>what is that</td>\n",
       "      <td>It's person_112 and person_183</td>\n",
       "      <td>From Adventure Time</td>\n",
       "      <td>4</td>\n",
       "    </tr>\n",
       "    <tr>\n",
       "      <th>14731</th>\n",
       "      <td>5000000</td>\n",
       "      <td>999</td>\n",
       "      <td>neutral</td>\n",
       "      <td>neutral</td>\n",
       "      <td>neutral</td>\n",
       "      <td>It's person_112 and person_183</td>\n",
       "      <td>From Adventure Time</td>\n",
       "      <td>i dont know them</td>\n",
       "      <td>3</td>\n",
       "    </tr>\n",
       "    <tr>\n",
       "      <th>14732</th>\n",
       "      <td>4000010</td>\n",
       "      <td>999</td>\n",
       "      <td>neutral</td>\n",
       "      <td>neutral</td>\n",
       "      <td>neutral</td>\n",
       "      <td>From Adventure Time</td>\n",
       "      <td>i dont know them</td>\n",
       "      <td>It's a show on Cartoon Network</td>\n",
       "      <td>4</td>\n",
       "    </tr>\n",
       "    <tr>\n",
       "      <th>14733</th>\n",
       "      <td>5000000</td>\n",
       "      <td>999</td>\n",
       "      <td>neutral</td>\n",
       "      <td>neutral</td>\n",
       "      <td>neutral</td>\n",
       "      <td>i dont know them</td>\n",
       "      <td>It's a show on Cartoon Network</td>\n",
       "      <td>I have a shirt with person_112 on it</td>\n",
       "      <td>7</td>\n",
       "    </tr>\n",
       "    <tr>\n",
       "      <th>14734</th>\n",
       "      <td>4100000</td>\n",
       "      <td>999</td>\n",
       "      <td>neutral</td>\n",
       "      <td>neutral</td>\n",
       "      <td>joy</td>\n",
       "      <td>It's a show on Cartoon Network</td>\n",
       "      <td>I have a shirt with person_112 on it</td>\n",
       "      <td>lolll</td>\n",
       "      <td>8</td>\n",
       "    </tr>\n",
       "    <tr>\n",
       "      <th>14735</th>\n",
       "      <td>1400000</td>\n",
       "      <td>999</td>\n",
       "      <td>neutral</td>\n",
       "      <td>joy</td>\n",
       "      <td>neutral</td>\n",
       "      <td>I have a shirt with person_112 on it</td>\n",
       "      <td>lolll</td>\n",
       "      <td>you likee that cartoon?</td>\n",
       "      <td>1</td>\n",
       "    </tr>\n",
       "    <tr>\n",
       "      <th>14736</th>\n",
       "      <td>3000020</td>\n",
       "      <td>999</td>\n",
       "      <td>joy</td>\n",
       "      <td>neutral</td>\n",
       "      <td>neutral</td>\n",
       "      <td>lolll</td>\n",
       "      <td>you likee that cartoon?</td>\n",
       "      <td>I used to watch it</td>\n",
       "      <td>4</td>\n",
       "    </tr>\n",
       "    <tr>\n",
       "      <th>14737</th>\n",
       "      <td>4010000</td>\n",
       "      <td>999</td>\n",
       "      <td>neutral</td>\n",
       "      <td>neutral</td>\n",
       "      <td>neutral</td>\n",
       "      <td>you likee that cartoon?</td>\n",
       "      <td>I used to watch it</td>\n",
       "      <td>It's weird</td>\n",
       "      <td>5</td>\n",
       "    </tr>\n",
       "    <tr>\n",
       "      <th>14738</th>\n",
       "      <td>4000010</td>\n",
       "      <td>999</td>\n",
       "      <td>neutral</td>\n",
       "      <td>neutral</td>\n",
       "      <td>joy</td>\n",
       "      <td>I used to watch it</td>\n",
       "      <td>It's weird</td>\n",
       "      <td>lollll</td>\n",
       "      <td>2</td>\n",
       "    </tr>\n",
       "    <tr>\n",
       "      <th>14739</th>\n",
       "      <td>1400000</td>\n",
       "      <td>999</td>\n",
       "      <td>neutral</td>\n",
       "      <td>joy</td>\n",
       "      <td>neutral</td>\n",
       "      <td>It's weird</td>\n",
       "      <td>lollll</td>\n",
       "      <td>Its supposed to be a kids show but there's a l...</td>\n",
       "      <td>1</td>\n",
       "    </tr>\n",
       "    <tr>\n",
       "      <th>14740</th>\n",
       "      <td>4000010</td>\n",
       "      <td>999</td>\n",
       "      <td>joy</td>\n",
       "      <td>neutral</td>\n",
       "      <td>joy</td>\n",
       "      <td>lollll</td>\n",
       "      <td>Its supposed to be a kids show but there's a l...</td>\n",
       "      <td>loolll</td>\n",
       "      <td>18</td>\n",
       "    </tr>\n",
       "    <tr>\n",
       "      <th>14741</th>\n",
       "      <td>1400000</td>\n",
       "      <td>999</td>\n",
       "      <td>neutral</td>\n",
       "      <td>joy</td>\n",
       "      <td>NaN</td>\n",
       "      <td>Its supposed to be a kids show but there's a l...</td>\n",
       "      <td>loolll</td>\n",
       "      <td>NaN</td>\n",
       "      <td>1</td>\n",
       "    </tr>\n",
       "  </tbody>\n",
       "</table>\n",
       "<p>14742 rows × 9 columns</p>\n",
       "</div>"
      ],
      "text/plain": [
       "      annotation  convoId     emotion1     emotion2     emotion3  \\\n",
       "0        4001000        0          NaN      neutral      neutral   \n",
       "1        4000010        0      neutral      neutral      neutral   \n",
       "2        5000000        0      neutral      neutral      neutral   \n",
       "3        3000020        0      neutral      neutral      neutral   \n",
       "4        5000000        0      neutral      neutral      neutral   \n",
       "5        3020000        0      neutral      neutral      neutral   \n",
       "6        5000000        0      neutral      neutral      neutral   \n",
       "7        5000000        0      neutral      neutral      neutral   \n",
       "8        4000010        0      neutral      neutral  non-neutral   \n",
       "9        2110100        0      neutral  non-neutral      neutral   \n",
       "10       5000000        0  non-neutral      neutral      neutral   \n",
       "11       4100000        0      neutral      neutral      neutral   \n",
       "12       4000010        0      neutral      neutral      neutral   \n",
       "13       4100000        0      neutral      neutral      neutral   \n",
       "14       4100000        0      neutral      neutral      neutral   \n",
       "15       5000000        0      neutral      neutral      neutral   \n",
       "16       4100000        0      neutral      neutral      neutral   \n",
       "17       4100000        0      neutral      neutral      neutral   \n",
       "18       4100000        0      neutral      neutral      neutral   \n",
       "19       4100000        0      neutral      neutral  non-neutral   \n",
       "20       2100020        0      neutral  non-neutral      neutral   \n",
       "21       3000002        0  non-neutral      neutral      neutral   \n",
       "22       3000101        0      neutral      neutral          NaN   \n",
       "23       4000001        1          NaN      neutral      disgust   \n",
       "24       1000004        1      neutral      disgust      neutral   \n",
       "25       4000100        1      disgust      neutral      neutral   \n",
       "26       4000001        1      neutral      neutral      neutral   \n",
       "27       4000010        1      neutral      neutral      neutral   \n",
       "28       4000010        1      neutral      neutral      neutral   \n",
       "29       5000000        1      neutral      neutral     surprise   \n",
       "...          ...      ...          ...          ...          ...   \n",
       "14712    5000000      997      neutral      neutral          joy   \n",
       "14713    1400000      997      neutral          joy      neutral   \n",
       "14714    5000000      997          joy      neutral      neutral   \n",
       "14715    5000000      997      neutral      neutral      neutral   \n",
       "14716    5000000      997      neutral      neutral      neutral   \n",
       "14717    4000010      997      neutral      neutral          NaN   \n",
       "14718    3100010      998          NaN      neutral      neutral   \n",
       "14719    3100010      998      neutral      neutral  non-neutral   \n",
       "14720    2200010      998      neutral  non-neutral      neutral   \n",
       "14721    3000020      998  non-neutral      neutral      neutral   \n",
       "14722    3200000      998      neutral      neutral          joy   \n",
       "14723    2300000      998      neutral          joy      neutral   \n",
       "14724    4100000      998          joy      neutral          joy   \n",
       "14725    0500000      998      neutral          joy          NaN   \n",
       "14726    4000010      999          NaN      neutral      neutral   \n",
       "14727    4100000      999      neutral      neutral      sadness   \n",
       "14728    0050000      999      neutral      sadness      neutral   \n",
       "14729    4000010      999      sadness      neutral      neutral   \n",
       "14730    5000000      999      neutral      neutral      neutral   \n",
       "14731    5000000      999      neutral      neutral      neutral   \n",
       "14732    4000010      999      neutral      neutral      neutral   \n",
       "14733    5000000      999      neutral      neutral      neutral   \n",
       "14734    4100000      999      neutral      neutral          joy   \n",
       "14735    1400000      999      neutral          joy      neutral   \n",
       "14736    3000020      999          joy      neutral      neutral   \n",
       "14737    4010000      999      neutral      neutral      neutral   \n",
       "14738    4000010      999      neutral      neutral          joy   \n",
       "14739    1400000      999      neutral          joy      neutral   \n",
       "14740    4000010      999          joy      neutral          joy   \n",
       "14741    1400000      999      neutral          joy          NaN   \n",
       "\n",
       "                                              utterance1  \\\n",
       "0                                                    NaN   \n",
       "1      Sorry to bother you but do you have the 270 te...   \n",
       "2                                       What's it called   \n",
       "3                  Digital design and principles I think   \n",
       "4                                      I don't think so?   \n",
       "5                                       I could be wrong   \n",
       "6      Ok that's fine. I'm just trying hard to avoid ...   \n",
       "7                                You don't need the boom   \n",
       "8                                                  *book   \n",
       "9                       If I do have it, I never used it   \n",
       "10                          But you had a good professor   \n",
       "11                          I mean you can use the notes   \n",
       "12              It tells you everything you need to know   \n",
       "13                 That helped me more than person_0 tbh   \n",
       "14     Oh alright then. I really want to do well in t...   \n",
       "15     Like the lecture notes and the summary notes a...   \n",
       "16                          So idk if the book will help   \n",
       "17                                                    Ok   \n",
       "18     Btw first exam is the same as first practice exam   \n",
       "19                        Like 75% identical if not more   \n",
       "20     So if you get a 90%+ you should be in good sha...   \n",
       "21                                                   Wow   \n",
       "22       Everyone got hammered on the last exam last sem   \n",
       "23                                                   NaN   \n",
       "24                  lmk when you get your server back up   \n",
       "25                                               if ever   \n",
       "26                                     or make a new one   \n",
       "27     We should institute a payment plan seeing as w...   \n",
       "28                                                   why   \n",
       "29                             does it cost you anything   \n",
       "...                                                  ...   \n",
       "14712                                   No echo breaking   \n",
       "14713                          I could barely understand   \n",
       "14714                                             lol ;D   \n",
       "14715                                               okay   \n",
       "14716                        But later it better luckily   \n",
       "14717                             I went out of the room   \n",
       "14718                                                NaN   \n",
       "14719                                         I got 2259   \n",
       "14720                   Like right in the middle of gold   \n",
       "14721                                              doope   \n",
       "14722                             Idk where you are haha   \n",
       "14723          Also I'm about to go drone some shit haha   \n",
       "14724                                              doope   \n",
       "14725                                               2770   \n",
       "14726                                                NaN   \n",
       "14727  Is that one crying because the other cactus left?   \n",
       "14728                                               yeaa   \n",
       "14729                                             Aww :(   \n",
       "14730                                       what is that   \n",
       "14731                     It's person_112 and person_183   \n",
       "14732                                From Adventure Time   \n",
       "14733                                   i dont know them   \n",
       "14734                    It's a show on Cartoon Network    \n",
       "14735               I have a shirt with person_112 on it   \n",
       "14736                                              lolll   \n",
       "14737                            you likee that cartoon?   \n",
       "14738                                 I used to watch it   \n",
       "14739                                         It's weird   \n",
       "14740                                             lollll   \n",
       "14741  Its supposed to be a kids show but there's a l...   \n",
       "\n",
       "                                              utterance2  \\\n",
       "0      Sorry to bother you but do you have the 270 te...   \n",
       "1                                       What's it called   \n",
       "2                  Digital design and principles I think   \n",
       "3                                      I don't think so?   \n",
       "4                                       I could be wrong   \n",
       "5      Ok that's fine. I'm just trying hard to avoid ...   \n",
       "6                                You don't need the boom   \n",
       "7                                                  *book   \n",
       "8                       If I do have it, I never used it   \n",
       "9                           But you had a good professor   \n",
       "10                          I mean you can use the notes   \n",
       "11              It tells you everything you need to know   \n",
       "12                 That helped me more than person_0 tbh   \n",
       "13     Oh alright then. I really want to do well in t...   \n",
       "14     Like the lecture notes and the summary notes a...   \n",
       "15                          So idk if the book will help   \n",
       "16                                                    Ok   \n",
       "17     Btw first exam is the same as first practice exam   \n",
       "18                        Like 75% identical if not more   \n",
       "19     So if you get a 90%+ you should be in good sha...   \n",
       "20                                                   Wow   \n",
       "21       Everyone got hammered on the last exam last sem   \n",
       "22     Cause the no one knew wtf was going on for the...   \n",
       "23                  lmk when you get your server back up   \n",
       "24                                               if ever   \n",
       "25                                     or make a new one   \n",
       "26     We should institute a payment plan seeing as w...   \n",
       "27                                                   why   \n",
       "28                             does it cost you anything   \n",
       "29                                    yeah 20$ per month   \n",
       "...                                                  ...   \n",
       "14712                          I could barely understand   \n",
       "14713                                             lol ;D   \n",
       "14714                                               okay   \n",
       "14715                        But later it better luckily   \n",
       "14716                             I went out of the room   \n",
       "14717                                   maybe that's why   \n",
       "14718                                         I got 2259   \n",
       "14719                   Like right in the middle of gold   \n",
       "14720                                              doope   \n",
       "14721                             Idk where you are haha   \n",
       "14722          Also I'm about to go drone some shit haha   \n",
       "14723                                              doope   \n",
       "14724                                               2770   \n",
       "14725                                Yay were close haha   \n",
       "14726  Is that one crying because the other cactus left?   \n",
       "14727                                               yeaa   \n",
       "14728                                             Aww :(   \n",
       "14729                                       what is that   \n",
       "14730                     It's person_112 and person_183   \n",
       "14731                                From Adventure Time   \n",
       "14732                                   i dont know them   \n",
       "14733                    It's a show on Cartoon Network    \n",
       "14734               I have a shirt with person_112 on it   \n",
       "14735                                              lolll   \n",
       "14736                            you likee that cartoon?   \n",
       "14737                                 I used to watch it   \n",
       "14738                                         It's weird   \n",
       "14739                                             lollll   \n",
       "14740  Its supposed to be a kids show but there's a l...   \n",
       "14741                                             loolll   \n",
       "\n",
       "                                              utterance3  wordsPerTurn  \n",
       "0                                       What's it called            11  \n",
       "1                  Digital design and principles I think             3  \n",
       "2                                      I don't think so?             6  \n",
       "3                                       I could be wrong             4  \n",
       "4      Ok that's fine. I'm just trying hard to avoid ...             4  \n",
       "5                                You don't need the boom            12  \n",
       "6                                                  *book             5  \n",
       "7                       If I do have it, I never used it             1  \n",
       "8                           But you had a good professor             9  \n",
       "9                           I mean you can use the notes             6  \n",
       "10              It tells you everything you need to know             7  \n",
       "11                 That helped me more than person_0 tbh             8  \n",
       "12     Oh alright then. I really want to do well in t...             7  \n",
       "13     Like the lecture notes and the summary notes a...            17  \n",
       "14                          So idk if the book will help            19  \n",
       "15                                                    Ok             7  \n",
       "16     Btw first exam is the same as first practice exam             1  \n",
       "17                        Like 75% identical if not more            10  \n",
       "18     So if you get a 90%+ you should be in good sha...             6  \n",
       "19                                                   Wow            25  \n",
       "20       Everyone got hammered on the last exam last sem             1  \n",
       "21     Cause the no one knew wtf was going on for the...             9  \n",
       "22                                                   NaN            16  \n",
       "23                                               if ever             8  \n",
       "24                                     or make a new one             2  \n",
       "25     We should institute a payment plan seeing as w...             5  \n",
       "26                                                   why            16  \n",
       "27                             does it cost you anything             1  \n",
       "28                                    yeah 20$ per month             5  \n",
       "29                                                  ohhh             4  \n",
       "...                                                  ...           ...  \n",
       "14712                                             lol ;D             4  \n",
       "14713                                               okay             2  \n",
       "14714                        But later it better luckily             1  \n",
       "14715                             I went out of the room             5  \n",
       "14716                                   maybe that's why             6  \n",
       "14717                                                NaN             3  \n",
       "14718                   Like right in the middle of gold             3  \n",
       "14719                                              doope             7  \n",
       "14720                             Idk where you are haha             1  \n",
       "14721          Also I'm about to go drone some shit haha             5  \n",
       "14722                                              doope             9  \n",
       "14723                                               2770             1  \n",
       "14724                                Yay were close haha             1  \n",
       "14725                                                NaN             4  \n",
       "14726                                               yeaa             9  \n",
       "14727                                             Aww :(             1  \n",
       "14728                                       what is that             2  \n",
       "14729                     It's person_112 and person_183             3  \n",
       "14730                                From Adventure Time             4  \n",
       "14731                                   i dont know them             3  \n",
       "14732                    It's a show on Cartoon Network              4  \n",
       "14733               I have a shirt with person_112 on it             7  \n",
       "14734                                              lolll             8  \n",
       "14735                            you likee that cartoon?             1  \n",
       "14736                                 I used to watch it             4  \n",
       "14737                                         It's weird             5  \n",
       "14738                                             lollll             2  \n",
       "14739  Its supposed to be a kids show but there's a l...             1  \n",
       "14740                                             loolll            18  \n",
       "14741                                                NaN             1  \n",
       "\n",
       "[14742 rows x 9 columns]"
      ]
     },
     "execution_count": 41,
     "metadata": {},
     "output_type": "execute_result"
    }
   ],
   "source": [
    "df"
   ]
  },
  {
   "cell_type": "code",
   "execution_count": 42,
   "metadata": {},
   "outputs": [],
   "source": [
    "# Create Transition Matrix P\n",
    "states = [\"neutral\", \"joy\", \"sadness\", \"fear\", \"anger\",  \"surprise\", \"disgust\", \"non-neutral\"]\n",
    "numStates = len(states)\n",
    "\n",
    "p = [ [0 for j in range(numStates)] for i in range(numStates) ]\n",
    "pnorm = [ [0 for j in range(numStates)] for i in range(numStates) ]"
   ]
  },
  {
   "cell_type": "code",
   "execution_count": 43,
   "metadata": {},
   "outputs": [],
   "source": [
    "# count transitions\n",
    "for i in range(len(df)):\n",
    "    prev = df.iat[i,2] # emotion 1\n",
    "    now = df.iat[i,3] # emotion 2\n",
    "    \n",
    "    if pd.notna(prev):\n",
    "        iprev = states.index(prev)\n",
    "        inow = states.index(now)\n",
    "        p[iprev][inow] = p[iprev][inow] + 1\n",
    "        \n",
    "# normalize        \n",
    "for i in range(len(p)):\n",
    "    for j in range(len(p[0])):\n",
    "        if sum(p[i]) != 0:\n",
    "            pnorm[i][j] = p[i][j] / sum(p[i])"
   ]
  },
  {
   "cell_type": "code",
   "execution_count": 44,
   "metadata": {},
   "outputs": [],
   "source": [
    "pnorm_np = np.matrix(pnorm)\n",
    "\n",
    "pnorm_np = np.around(pnorm_np, decimals=3)"
   ]
  },
  {
   "cell_type": "code",
   "execution_count": 45,
   "metadata": {},
   "outputs": [],
   "source": [
    "mergedList = []\n",
    "mat = pnorm_np.tolist()\n",
    "\n",
    "for l in mat:\n",
    "    mergedList.extend(l)"
   ]
  },
  {
   "cell_type": "markdown",
   "metadata": {},
   "source": [
    "![title](../reports/figures/1.0-markov-transition-V1.1.png)"
   ]
  },
  {
   "cell_type": "code",
   "execution_count": 46,
   "metadata": {},
   "outputs": [],
   "source": [
    "# summary:\n",
    "# -> does show some indication of reliance on prev state\n",
    "# -> Question: How do you use the Markov chain to determine dependance? \n",
    "# -> Question: Is that the standard way?"
   ]
  },
  {
   "cell_type": "markdown",
   "metadata": {},
   "source": [
    "## Emotion label simplification"
   ]
  },
  {
   "cell_type": "code",
   "execution_count": 47,
   "metadata": {},
   "outputs": [],
   "source": [
    "df2 = df[df.emotion2.isin([\"neutral\", \"anger\", \"joy\", \"sadness\"])]\n",
    "df2 = df2[df2.emotion1.isin([\"neutral\", \"anger\", \"joy\", \"sadness\"])]"
   ]
  },
  {
   "cell_type": "markdown",
   "metadata": {},
   "source": [
    "## Markov Chain analysis 2.0"
   ]
  },
  {
   "cell_type": "code",
   "execution_count": 48,
   "metadata": {},
   "outputs": [],
   "source": [
    "# Create Transition Matrix P\n",
    "states = [\"anger\", \"joy\", \"neutral\", \"sadness\"]\n",
    "numStates = len(states)\n",
    "\n",
    "p = [ [0 for j in range(numStates)] for i in range(numStates) ]\n",
    "pnorm = [ [0 for j in range(numStates)] for i in range(numStates) ]"
   ]
  },
  {
   "cell_type": "code",
   "execution_count": 49,
   "metadata": {},
   "outputs": [],
   "source": [
    "# count transitions\n",
    "for i in range(len(df2)):\n",
    "    prev = df2.iat[i,2] # emotion 1\n",
    "    now = df2.iat[i,3] # emotion 2\n",
    "    \n",
    "    if pd.notna(prev):\n",
    "        iprev = states.index(prev)\n",
    "        inow = states.index(now)\n",
    "        p[iprev][inow] = p[iprev][inow] + 1\n",
    "        \n",
    "# normalize        \n",
    "for i in range(len(p)):\n",
    "    for j in range(len(p[0])):\n",
    "        if sum(p[i]) != 0:\n",
    "            pnorm[i][j] = p[i][j] / sum(p[i])"
   ]
  },
  {
   "cell_type": "code",
   "execution_count": 50,
   "metadata": {},
   "outputs": [],
   "source": [
    "pnorm_np = np.matrix(pnorm)\n",
    "\n",
    "pnorm_np = np.around(pnorm_np, decimals=2)"
   ]
  },
  {
   "cell_type": "code",
   "execution_count": 51,
   "metadata": {},
   "outputs": [],
   "source": [
    "mergedList = []\n",
    "mat = pnorm_np.tolist()\n",
    "\n",
    "for l in mat:\n",
    "    mergedList.extend(l)"
   ]
  },
  {
   "cell_type": "code",
   "execution_count": 52,
   "metadata": {},
   "outputs": [
    {
     "data": {
      "text/plain": [
       "[[0.21, 0.12, 0.58, 0.09],\n",
       " [0.0, 0.39, 0.57, 0.03],\n",
       " [0.01, 0.12, 0.85, 0.02],\n",
       " [0.02, 0.12, 0.59, 0.27]]"
      ]
     },
     "execution_count": 52,
     "metadata": {},
     "output_type": "execute_result"
    }
   ],
   "source": [
    "mat"
   ]
  },
  {
   "cell_type": "code",
   "execution_count": null,
   "metadata": {},
   "outputs": [],
   "source": []
  }
 ],
 "metadata": {
  "kernelspec": {
   "display_name": "Python 3",
   "language": "python",
   "name": "python3"
  },
  "language_info": {
   "codemirror_mode": {
    "name": "ipython",
    "version": 3
   },
   "file_extension": ".py",
   "mimetype": "text/x-python",
   "name": "python",
   "nbconvert_exporter": "python",
   "pygments_lexer": "ipython3",
   "version": "3.7.3"
  }
 },
 "nbformat": 4,
 "nbformat_minor": 2
}
